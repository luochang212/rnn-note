{
 "cells": [
  {
   "cell_type": "markdown",
   "id": "aff844f5-ab03-46b7-9f04-de9b3bf74aea",
   "metadata": {},
   "source": [
    "# 循环神经网络的从零开始实现"
   ]
  },
  {
   "cell_type": "code",
   "execution_count": 1,
   "id": "4155adb5-7e61-4691-8eb4-11af7a337f2e",
   "metadata": {
    "execution": {
     "iopub.execute_input": "2024-05-19T13:41:19.175211Z",
     "iopub.status.busy": "2024-05-19T13:41:19.174423Z",
     "iopub.status.idle": "2024-05-19T13:41:21.334528Z",
     "shell.execute_reply": "2024-05-19T13:41:21.333389Z",
     "shell.execute_reply.started": "2024-05-19T13:41:19.175168Z"
    }
   },
   "outputs": [],
   "source": [
    "%matplotlib inline\n",
    "\n",
    "import random\n",
    "import re\n",
    "import collections\n",
    "import math\n",
    "import torch\n",
    "from torch import nn\n",
    "from torch.nn import functional as F\n",
    "import d2l_torch as d2l"
   ]
  },
  {
   "cell_type": "code",
   "execution_count": 2,
   "id": "f9a1d0b3-c717-4311-a299-437752f6a396",
   "metadata": {
    "execution": {
     "iopub.execute_input": "2024-05-19T13:41:21.336821Z",
     "iopub.status.busy": "2024-05-19T13:41:21.336041Z",
     "iopub.status.idle": "2024-05-19T13:41:21.343921Z",
     "shell.execute_reply": "2024-05-19T13:41:21.342429Z",
     "shell.execute_reply.started": "2024-05-19T13:41:21.336776Z"
    }
   },
   "outputs": [],
   "source": [
    "# 读取数据集\n",
    "d2l.DATA_HUB['time_machine'] = (d2l.DATA_URL + 'timemachine.txt',\n",
    "                                '090b5e7e70c295757f55df93cb0a180b9691891a')\n",
    "\n",
    "def read_time_machine():\n",
    "    with open(d2l.download('time_machine'), 'r') as f:\n",
    "        lines = f.readlines()\n",
    "    return [re.sub('[^A-Za-z]+', ' ', line).strip().lower() for line in lines]"
   ]
  },
  {
   "cell_type": "code",
   "execution_count": 3,
   "id": "94e45772-c905-40b1-8266-18688ca7f7f8",
   "metadata": {
    "execution": {
     "iopub.execute_input": "2024-05-19T13:41:21.346207Z",
     "iopub.status.busy": "2024-05-19T13:41:21.345685Z",
     "iopub.status.idle": "2024-05-19T13:41:21.360153Z",
     "shell.execute_reply": "2024-05-19T13:41:21.358823Z",
     "shell.execute_reply.started": "2024-05-19T13:41:21.346159Z"
    }
   },
   "outputs": [],
   "source": [
    "# 词元的类型是字符串，而模型需要的输入是数字\n",
    "# 构建一个词典，叫做词表，用来将字符串类型的词元映射到从 0 开始的数字索引中\n",
    "class Vocab:\n",
    "    def __init__(self, tokens=None, min_freq=0, reserved_tokens=None):\n",
    "        if tokens is None:\n",
    "            tokens = []\n",
    "        if reserved_tokens is None:\n",
    "            reserved_tokens = []\n",
    "        # 按出现频率排序\n",
    "        counter = count_corpus(tokens)\n",
    "        self._token_freqs = sorted(counter.items(), key=lambda x: x[1], reverse=True)\n",
    "\n",
    "        # 未知词元的索引为 0\n",
    "        self.idx_to_token = ['<unk>'] + reserved_tokens\n",
    "        self.token_to_idx = {token: idx for idx, token in enumerate(self.idx_to_token)}\n",
    "\n",
    "        for token, freq in self._token_freqs:\n",
    "            if freq < min_freq:\n",
    "                break\n",
    "            if token not in self.token_to_idx:\n",
    "                self.idx_to_token.append(token)\n",
    "                self.token_to_idx[token] = len(self.idx_to_token) - 1\n",
    "\n",
    "    def __len__(self):\n",
    "        return len(self.idx_to_token)\n",
    "\n",
    "    def __getitem__(self, tokens):\n",
    "        if not isinstance(tokens, (list, tuple)):\n",
    "            return self.token_to_idx.get(tokens, self.unk)\n",
    "        return [self.__getitem__(token) for token in tokens]\n",
    "\n",
    "    def to_tokens(self, indices):\n",
    "        if not isinstance(indices, (list, tuple)):\n",
    "            return self.idx_to_token[indices]\n",
    "        return [self.idx_to_token[index] for index in indices]\n",
    "\n",
    "    @property\n",
    "    def unk(self):\n",
    "        return 0\n",
    "\n",
    "    @property\n",
    "    def token_freqs(self):\n",
    "        return self._token_freqs\n",
    "\n",
    "def count_corpus(tokens):\n",
    "    if len(tokens) == 0 or isinstance(tokens[0], list):\n",
    "        tokens = [token for line in tokens for token in line]\n",
    "    return collections.Counter(tokens)\n"
   ]
  },
  {
   "cell_type": "code",
   "execution_count": 4,
   "id": "c750b665-4e25-4cb1-9cf8-87780157c79e",
   "metadata": {
    "execution": {
     "iopub.execute_input": "2024-05-19T13:41:21.362564Z",
     "iopub.status.busy": "2024-05-19T13:41:21.362021Z",
     "iopub.status.idle": "2024-05-19T13:41:21.375031Z",
     "shell.execute_reply": "2024-05-19T13:41:21.372957Z",
     "shell.execute_reply.started": "2024-05-19T13:41:21.362521Z"
    }
   },
   "outputs": [],
   "source": [
    "# 词元化\n",
    "def tokenize(lines, token='word'):\n",
    "    if token == 'word':\n",
    "        return [line.split() for line in lines]\n",
    "    elif token == 'char':\n",
    "        return [list(line) for line in lines]\n",
    "    else:\n",
    "        print('error: unknown type ' + token)"
   ]
  },
  {
   "cell_type": "code",
   "execution_count": 5,
   "id": "a9b9ba64-334f-42b9-8059-6aa9960d65c1",
   "metadata": {
    "execution": {
     "iopub.execute_input": "2024-05-19T13:41:21.377550Z",
     "iopub.status.busy": "2024-05-19T13:41:21.376712Z",
     "iopub.status.idle": "2024-05-19T13:41:21.518997Z",
     "shell.execute_reply": "2024-05-19T13:41:21.517996Z",
     "shell.execute_reply.started": "2024-05-19T13:41:21.377502Z"
    }
   },
   "outputs": [
    {
     "data": {
      "text/plain": [
       "(170580, 28)"
      ]
     },
     "execution_count": 5,
     "metadata": {},
     "output_type": "execute_result"
    }
   ],
   "source": [
    "def load_corpus_time_machine(max_tokens=-1):\n",
    "    lines = read_time_machine()\n",
    "    tokens = tokenize(lines, 'char')\n",
    "    vocab = Vocab(tokens)\n",
    "\n",
    "    corpus = [vocab[token] for line in tokens for token in line]\n",
    "    if max_tokens > 0:\n",
    "        corpus = corpus[:max_tokens]\n",
    "    return corpus, vocab\n",
    "\n",
    "corpus, vocab = load_corpus_time_machine()\n",
    "len(corpus), len(vocab)"
   ]
  },
  {
   "cell_type": "code",
   "execution_count": 6,
   "id": "a7b44c41-0eab-4b90-9902-e9cbbd188be0",
   "metadata": {
    "execution": {
     "iopub.execute_input": "2024-05-19T13:41:21.521194Z",
     "iopub.status.busy": "2024-05-19T13:41:21.520577Z",
     "iopub.status.idle": "2024-05-19T13:41:21.530526Z",
     "shell.execute_reply": "2024-05-19T13:41:21.528533Z",
     "shell.execute_reply.started": "2024-05-19T13:41:21.521157Z"
    }
   },
   "outputs": [],
   "source": [
    "# 随机采样策略\n",
    "def seq_data_iter_random(corpus, batch_size, num_steps):\n",
    "    # 随机偏移\n",
    "    corpus = corpus[random.randint(0, num_steps - 1):]\n",
    "    # 子序列的数量\n",
    "    num_subseqs = (len(corpus) - 1) // num_steps\n",
    "    # 子序列启始索引\n",
    "    initial_indices = list(range(0, num_subseqs * num_steps, num_steps))\n",
    "    random.shuffle(initial_indices)\n",
    "\n",
    "    def data(pos):\n",
    "        return corpus[pos:pos+num_steps]\n",
    "\n",
    "    # 单一批量包含子序列的数量 = 子序列数 / 批量大小\n",
    "    num_batches = num_subseqs // batch_size\n",
    "    for i in range(0, batch_size * num_batches, batch_size):\n",
    "        initial_indices_per_batch = initial_indices[i:i+batch_size]\n",
    "        X = [data(j) for j in initial_indices_per_batch]\n",
    "        # 下一个时间步的内容作为模型的标号\n",
    "        Y = [data(j + 1) for j in initial_indices_per_batch]\n",
    "        yield torch.tensor(X), torch.tensor(Y)"
   ]
  },
  {
   "cell_type": "code",
   "execution_count": 7,
   "id": "563aebc5-e514-45a3-8185-ed843c3cb0e1",
   "metadata": {
    "execution": {
     "iopub.execute_input": "2024-05-19T13:41:21.534161Z",
     "iopub.status.busy": "2024-05-19T13:41:21.533476Z",
     "iopub.status.idle": "2024-05-19T13:41:21.546629Z",
     "shell.execute_reply": "2024-05-19T13:41:21.543472Z",
     "shell.execute_reply.started": "2024-05-19T13:41:21.534119Z"
    }
   },
   "outputs": [],
   "source": [
    "# 顺序分区策略\n",
    "def seq_data_iter_sequential(corpus, batch_size, num_steps):\n",
    "    offset = random.randint(0, num_steps)\n",
    "    # 每个batch内的相邻子序列是顺序的\n",
    "    num_tokens = ((len(corpus) - offset - 1) // batch_size) * batch_size\n",
    "    Xs = torch.tensor(corpus[offset:offset + num_tokens])\n",
    "    Ys = torch.tensor(corpus[offset + 1:offset + 1 + num_tokens])\n",
    "    Xs, Ys = Xs.reshape(batch_size, -1), Ys.reshape(batch_size, -1)\n",
    "    # 每个batch内的序列数\n",
    "    num_batches = Xs.shape[1] // num_steps\n",
    "    for i in range(0, num_steps * num_batches, num_steps):\n",
    "        X = Xs[:,i:i+num_steps]\n",
    "        Y = Ys[:,i:i+num_steps]\n",
    "        yield X, Y"
   ]
  },
  {
   "cell_type": "code",
   "execution_count": 8,
   "id": "f8503244-170e-4c58-ae05-29f9e74f26a2",
   "metadata": {
    "execution": {
     "iopub.execute_input": "2024-05-19T13:41:21.549848Z",
     "iopub.status.busy": "2024-05-19T13:41:21.548326Z",
     "iopub.status.idle": "2024-05-19T13:41:21.559318Z",
     "shell.execute_reply": "2024-05-19T13:41:21.557819Z",
     "shell.execute_reply.started": "2024-05-19T13:41:21.549801Z"
    }
   },
   "outputs": [],
   "source": [
    "# 整合两个采样函数\n",
    "class SeqDataLoader:\n",
    "    def __init__(self, batch_size, num_steps, use_random_iter, max_tokens):\n",
    "        if use_random_iter:\n",
    "            self.data_iter_fn = seq_data_iter_random\n",
    "        else:\n",
    "            self.data_iter_fn = seq_data_iter_sequential\n",
    "        self.corpus, self.vocab = load_corpus_time_machine(max_tokens)\n",
    "        self.batch_size, self.num_steps = batch_size, num_steps\n",
    "\n",
    "    def __iter__(self):\n",
    "        return self.data_iter_fn(self.corpus, self.batch_size, self.num_steps)"
   ]
  },
  {
   "cell_type": "code",
   "execution_count": 9,
   "id": "fe7a6052-fa6f-4fca-b07a-e4b9014eb25c",
   "metadata": {
    "execution": {
     "iopub.execute_input": "2024-05-19T13:41:21.562100Z",
     "iopub.status.busy": "2024-05-19T13:41:21.561488Z",
     "iopub.status.idle": "2024-05-19T13:41:21.572200Z",
     "shell.execute_reply": "2024-05-19T13:41:21.570786Z",
     "shell.execute_reply.started": "2024-05-19T13:41:21.562061Z"
    }
   },
   "outputs": [],
   "source": [
    "def load_data_time_machine(batch_size, num_steps,\n",
    "                           use_random_iter=False, max_tokens=10000):\n",
    "    data_iter = SeqDataLoader(batch_size, num_steps, use_random_iter, max_tokens)\n",
    "    return data_iter, data_iter.vocab"
   ]
  },
  {
   "cell_type": "code",
   "execution_count": 10,
   "id": "f97b09b5-7a6e-460e-9736-4feca79e65d2",
   "metadata": {
    "execution": {
     "iopub.execute_input": "2024-05-19T13:41:21.575236Z",
     "iopub.status.busy": "2024-05-19T13:41:21.574373Z",
     "iopub.status.idle": "2024-05-19T13:41:21.849471Z",
     "shell.execute_reply": "2024-05-19T13:41:21.848516Z",
     "shell.execute_reply.started": "2024-05-19T13:41:21.575193Z"
    }
   },
   "outputs": [],
   "source": [
    "batch_size, num_steps = 32, 35\n",
    "train_iter, vocab = load_data_time_machine(batch_size, num_steps)"
   ]
  },
  {
   "cell_type": "code",
   "execution_count": 11,
   "id": "efa3c4bf-a0ce-4b7d-80ba-e4f8c45147ec",
   "metadata": {
    "execution": {
     "iopub.execute_input": "2024-05-19T13:41:21.863848Z",
     "iopub.status.busy": "2024-05-19T13:41:21.863394Z",
     "iopub.status.idle": "2024-05-19T13:41:21.876104Z",
     "shell.execute_reply": "2024-05-19T13:41:21.873292Z",
     "shell.execute_reply.started": "2024-05-19T13:41:21.863823Z"
    }
   },
   "outputs": [
    {
     "data": {
      "text/plain": [
       "tensor([[1, 0, 0, 0, 0, 0, 0, 0, 0, 0, 0, 0, 0, 0, 0, 0, 0, 0, 0, 0, 0, 0, 0, 0,\n",
       "         0, 0, 0, 0],\n",
       "        [0, 0, 1, 0, 0, 0, 0, 0, 0, 0, 0, 0, 0, 0, 0, 0, 0, 0, 0, 0, 0, 0, 0, 0,\n",
       "         0, 0, 0, 0]])"
      ]
     },
     "execution_count": 11,
     "metadata": {},
     "output_type": "execute_result"
    }
   ],
   "source": [
    "# 独热编码\n",
    "F.one_hot(torch.tensor([0, 2]), len(vocab))"
   ]
  },
  {
   "cell_type": "code",
   "execution_count": 12,
   "id": "351121ea-5121-4cc3-891b-2d17ec94005c",
   "metadata": {
    "execution": {
     "iopub.execute_input": "2024-05-19T13:41:21.878652Z",
     "iopub.status.busy": "2024-05-19T13:41:21.878054Z",
     "iopub.status.idle": "2024-05-19T13:41:21.891668Z",
     "shell.execute_reply": "2024-05-19T13:41:21.889975Z",
     "shell.execute_reply.started": "2024-05-19T13:41:21.878605Z"
    }
   },
   "outputs": [
    {
     "data": {
      "text/plain": [
       "torch.Size([5, 2, 28])"
      ]
     },
     "execution_count": 12,
     "metadata": {},
     "output_type": "execute_result"
    }
   ],
   "source": [
    "X = torch.arange(10).reshape((2, 5))\n",
    "F.one_hot(X.T, 28).shape"
   ]
  },
  {
   "cell_type": "code",
   "execution_count": 13,
   "id": "955dec32-0d0c-47d0-b590-387be163fa78",
   "metadata": {
    "execution": {
     "iopub.execute_input": "2024-05-19T13:41:21.895164Z",
     "iopub.status.busy": "2024-05-19T13:41:21.894653Z",
     "iopub.status.idle": "2024-05-19T13:41:21.904875Z",
     "shell.execute_reply": "2024-05-19T13:41:21.903301Z",
     "shell.execute_reply.started": "2024-05-19T13:41:21.895130Z"
    }
   },
   "outputs": [],
   "source": [
    "# 初始化模型参数\n",
    "def get_params(vocab_size, num_hiddens, device):\n",
    "    num_inputs = num_outputs = vocab_size\n",
    "\n",
    "    def normal(shape):\n",
    "        return torch.randn(size=shape, device=device) * 0.01\n",
    "\n",
    "    W_xh = normal((num_inputs, num_hiddens))\n",
    "    W_hh = normal((num_hiddens, num_hiddens))\n",
    "    b_h = torch.zeros(num_hiddens, device=device)\n",
    "    \n",
    "    W_hq = normal((num_hiddens, num_outputs))\n",
    "    b_q = torch.zeros(num_outputs, device=device)\n",
    "\n",
    "    params = [W_xh, W_hh, b_h, W_hq, b_q]\n",
    "    for param in params:\n",
    "        param.requires_grad_(True)\n",
    "    return params"
   ]
  },
  {
   "cell_type": "code",
   "execution_count": 14,
   "id": "48116b93-342c-4045-b870-8c71a1f5ab14",
   "metadata": {
    "execution": {
     "iopub.execute_input": "2024-05-19T13:41:21.907526Z",
     "iopub.status.busy": "2024-05-19T13:41:21.906836Z",
     "iopub.status.idle": "2024-05-19T13:41:21.913849Z",
     "shell.execute_reply": "2024-05-19T13:41:21.912647Z",
     "shell.execute_reply.started": "2024-05-19T13:41:21.907456Z"
    }
   },
   "outputs": [],
   "source": [
    "# 定义循环神经网络模型\n",
    "def init_rnn_state(batch_size, num_hiddens, device):\n",
    "    return (torch.zeros((batch_size, num_hiddens), device=device), )"
   ]
  },
  {
   "cell_type": "code",
   "execution_count": 15,
   "id": "94c428b1-57be-42dc-a9af-eebac446023c",
   "metadata": {
    "execution": {
     "iopub.execute_input": "2024-05-19T13:41:21.916336Z",
     "iopub.status.busy": "2024-05-19T13:41:21.915402Z",
     "iopub.status.idle": "2024-05-19T13:41:21.925412Z",
     "shell.execute_reply": "2024-05-19T13:41:21.923417Z",
     "shell.execute_reply.started": "2024-05-19T13:41:21.916287Z"
    }
   },
   "outputs": [],
   "source": [
    "def rnn(inputs, state, params):\n",
    "    W_xh, W_hh, b_h, W_hq, b_q = params\n",
    "    H, = state\n",
    "    outputs = []\n",
    "    for X in inputs:\n",
    "        H = torch.tanh(torch.mm(X, W_xh) + torch.mm(H, W_hh) + b_h)\n",
    "        Y = torch.mm(H, W_hq) + b_q\n",
    "        outputs.append(Y)\n",
    "    return torch.cat(outputs, dim=0), (H,)"
   ]
  },
  {
   "cell_type": "code",
   "execution_count": 16,
   "id": "e81fa711-d56f-4fb9-b799-29a09670446b",
   "metadata": {
    "execution": {
     "iopub.execute_input": "2024-05-19T13:41:21.928775Z",
     "iopub.status.busy": "2024-05-19T13:41:21.927847Z",
     "iopub.status.idle": "2024-05-19T13:41:21.936653Z",
     "shell.execute_reply": "2024-05-19T13:41:21.935236Z",
     "shell.execute_reply.started": "2024-05-19T13:41:21.928726Z"
    }
   },
   "outputs": [],
   "source": [
    "class RNNModelScratch:\n",
    "    def __init__(self, vocab_size, num_hiddens, device,\n",
    "                get_params, init_state, forward_fn):\n",
    "        self.vocab_size, self.num_hiddens = vocab_size, num_hiddens\n",
    "        self.params = get_params(vocab_size, num_hiddens, device)\n",
    "        self.init_state, self.forward_fn = init_state, forward_fn\n",
    "\n",
    "    def __call__(self, X, state):\n",
    "        X = F.one_hot(X.T, self.vocab_size).type(torch.float32)\n",
    "        return self.forward_fn(X, state, self.params)\n",
    "\n",
    "    def begin_state(self, batch_size, device):\n",
    "        return self.init_state(batch_size, self.num_hiddens, device)"
   ]
  },
  {
   "cell_type": "code",
   "execution_count": null,
   "id": "5e130650-6a36-40e1-93be-4a09b2d57f9a",
   "metadata": {
    "execution": {
     "execution_failed": "2024-05-19T13:41:22.020Z",
     "iopub.execute_input": "2024-05-19T13:41:21.938943Z",
     "iopub.status.busy": "2024-05-19T13:41:21.938412Z"
    }
   },
   "outputs": [],
   "source": [
    "num_hiddens = 512\n",
    "net = RNNModelScratch(len(vocab), num_hiddens, d2l.try_gpu(), get_params,\n",
    "                     init_rnn_state, rnn)\n",
    "state = net.begin_state(X.shape[0], d2l.try_gpu())\n",
    "Y, new_state = net(X.to(d2l.try_gpu()), state)\n",
    "Y.shape, len(new_state), new_state[0].shape"
   ]
  },
  {
   "cell_type": "code",
   "execution_count": null,
   "id": "2f2933b4-7e6f-4c78-820e-4a56b623c9cf",
   "metadata": {
    "execution": {
     "execution_failed": "2024-05-19T13:41:22.021Z"
    }
   },
   "outputs": [],
   "source": [
    "# 预测\n",
    "def predict_ch8(prefix, num_preds, net, vocab, device):\n",
    "    state = net.begin_state(batch_size=1, device=device)\n",
    "    outputs = [vocab[prefix[0]]]\n",
    "    get_input = lambda: torch.tensor([outputs[-1]], device=device).reshape((1, 1))\n",
    "    for y in prefix[1:]:\n",
    "        _, state = net(get_input(), state)\n",
    "        outputs.append(vocab[y])\n",
    "    for _ in range(num_preds):\n",
    "        y, state = net(get_input(), state)\n",
    "        outputs.append(int(y.argmax(dim=1).reshape(1)))\n",
    "    return ''.join([vocab.idx_to_token[i] for i in outputs])"
   ]
  },
  {
   "cell_type": "code",
   "execution_count": null,
   "id": "3155b607-feab-4e0a-b3c4-122fcb51f36e",
   "metadata": {
    "execution": {
     "execution_failed": "2024-05-19T13:41:22.021Z"
    }
   },
   "outputs": [],
   "source": [
    "predict_ch8('time traveller ', 10, net, vocab, d2l.try_gpu())"
   ]
  },
  {
   "cell_type": "code",
   "execution_count": null,
   "id": "2fe21925-c3d0-486f-bc1e-6e005c4b878b",
   "metadata": {
    "execution": {
     "execution_failed": "2024-05-19T13:41:22.021Z"
    }
   },
   "outputs": [],
   "source": [
    "# 梯度裁剪\n",
    "def grad_clipping(net, theta):\n",
    "    if isinstance(net, nn.Module):\n",
    "        params = [p for p in net.parameters() if p.requires_grad]\n",
    "    else:\n",
    "        params = net.params\n",
    "    norm = torch.sqrt(sum(torch.sum((p.grad ** 2)) for p in params))\n",
    "    if norm > theta:\n",
    "        for param in params:\n",
    "            param.grad[:] *= theta / norm"
   ]
  },
  {
   "cell_type": "code",
   "execution_count": null,
   "id": "50a2d048-ccca-4061-a088-62079aa13eca",
   "metadata": {
    "execution": {
     "execution_failed": "2024-05-19T13:41:22.021Z"
    }
   },
   "outputs": [],
   "source": [
    "# 训练\n",
    "def train_epoch_ch8(net, train_iter, loss, updater, device, use_random_iter):\n",
    "    state, timer = None, d2l.Timer()\n",
    "    metric = d2l.Accumulator(2)\n",
    "    for X, Y in train_iter:\n",
    "        if state is None or use_random_iter:\n",
    "            state = net.begin_state(batch_size=X.shape[0], device=device)\n",
    "        else:\n",
    "            if isinstance(net, nn.Module) and not isinstance(state, tuple):\n",
    "                state.detach_()\n",
    "            else:\n",
    "                for s in state:\n",
    "                    s.detach_()\n",
    "        y = Y.T.reshape(-1)\n",
    "        X, y = X.to(device), y.to(device)\n",
    "        y_hat, state = net(X, state)\n",
    "        l = loss(y_hat, y.long()).mean()\n",
    "        if isinstance(updater, torch.optim.Optimizer):\n",
    "            updater.zero_grad()\n",
    "            l.backward()\n",
    "            grad_clipping(net, 1)\n",
    "            updater.step()\n",
    "        else:\n",
    "            l.backward()\n",
    "            grad_clipping(net, 1)\n",
    "            updater(batch_size=1)\n",
    "        metric.add(l * y.numel(), y.numel())\n",
    "    return math.exp(metric[0] / metric[1]), metric[1] / timer.stop()"
   ]
  },
  {
   "cell_type": "code",
   "execution_count": null,
   "id": "37149d23-e3b4-421c-b7b4-d7c326648306",
   "metadata": {
    "execution": {
     "execution_failed": "2024-05-19T13:41:22.021Z"
    }
   },
   "outputs": [],
   "source": [
    "def train_ch8(net, train_iter, vocab, lr, num_epochs, device,\n",
    "             use_random_iter=False):\n",
    "    loss = nn.CrossEntropyLoss()\n",
    "    animator = d2l.Animator(xlabel='epoch', ylabel='perplexity',\n",
    "                           legend=['train'], xlim=[10, num_epochs])\n",
    "    if isinstance(net, nn.Module):\n",
    "        updater = torch.optim.SGD(net.parameters(), lr)\n",
    "    else:\n",
    "        updater = lambda batch_size: d2l.sgd(net.params, lr, batch_size)\n",
    "    predict = lambda prefix: predict_ch8(prefix, 50, net, vocab, device)\n",
    "    for epoch in range(num_epochs):\n",
    "        ppl, speed = train_epoch_ch8(\n",
    "            net, train_iter, loss, updater, device, use_random_iter)\n",
    "        if (epoch + 1) % 10 == 0:\n",
    "            print(predict('time traveller'))\n",
    "            animator.add(epoch + 1, [ppl])\n",
    "    print(f'困惑度 {ppl:.1f}, {speed:.1f} 词元/秒 {str(device)}')\n",
    "    print(predict('time traveller'))\n",
    "    print(predict('traveller'))            "
   ]
  },
  {
   "cell_type": "code",
   "execution_count": null,
   "id": "911631e5-b282-4a20-85fc-7501ecd88077",
   "metadata": {
    "execution": {
     "execution_failed": "2024-05-19T13:41:22.021Z"
    }
   },
   "outputs": [],
   "source": [
    "num_epochs, lr = 500, 1\n",
    "train_ch8(net, train_iter, vocab, lr, num_epochs, d2l.try_gpu())"
   ]
  },
  {
   "cell_type": "code",
   "execution_count": null,
   "id": "a3940f3c-2d17-4d1a-b36a-8df117fc905e",
   "metadata": {
    "execution": {
     "execution_failed": "2024-05-19T13:41:22.021Z"
    }
   },
   "outputs": [],
   "source": [
    "net = RNNModelScratch(len(vocab), num_hiddens, d2l.try_gpu(), get_params,\n",
    "                     init_rnn_state, rnn)\n",
    "train_ch8(net, train_iter, vocab, lr, num_epochs, d2l.try_gpu(),\n",
    "         use_random_iter=True)"
   ]
  },
  {
   "cell_type": "code",
   "execution_count": null,
   "id": "4ec78804-3383-4e5c-899b-96830e3f4bba",
   "metadata": {},
   "outputs": [],
   "source": []
  }
 ],
 "metadata": {
  "kernelspec": {
   "display_name": "Python 3 (ipykernel)",
   "language": "python",
   "name": "python3"
  },
  "language_info": {
   "codemirror_mode": {
    "name": "ipython",
    "version": 3
   },
   "file_extension": ".py",
   "mimetype": "text/x-python",
   "name": "python",
   "nbconvert_exporter": "python",
   "pygments_lexer": "ipython3",
   "version": "3.10.14"
  }
 },
 "nbformat": 4,
 "nbformat_minor": 5
}
